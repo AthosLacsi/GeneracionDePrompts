{
  "nbformat": 4,
  "nbformat_minor": 0,
  "metadata": {
    "colab": {
      "provenance": [],
      "toc_visible": true,
      "authorship_tag": "ABX9TyPnf0AzP7VVLCvyHQCFGkdD",
      "include_colab_link": true
    },
    "kernelspec": {
      "name": "python3",
      "display_name": "Python 3"
    },
    "language_info": {
      "name": "python"
    }
  },
  "cells": [
    {
      "cell_type": "markdown",
      "metadata": {
        "id": "view-in-github",
        "colab_type": "text"
      },
      "source": [
        "<a href=\"https://colab.research.google.com/github/AthosLacsi/GeneracionDePrompts/blob/main/GeneracionDePrompts.ipynb\" target=\"_parent\"><img src=\"https://colab.research.google.com/assets/colab-badge.svg\" alt=\"Open In Colab\"/></a>"
      ]
    },
    {
      "cell_type": "code",
      "source": [
        "!pip install -q -U google-generativeai"
      ],
      "metadata": {
        "id": "tY3TQdVGCJiQ"
      },
      "execution_count": 1,
      "outputs": []
    },
    {
      "cell_type": "code",
      "source": [
        "import google.generativeai as genai"
      ],
      "metadata": {
        "id": "zXcEvH5mBuV4"
      },
      "execution_count": 2,
      "outputs": []
    },
    {
      "cell_type": "code",
      "source": [
        "from google.colab import userdata\n",
        "\n",
        "GOOGLE_API_KEY=userdata.get('llaveapi2')\n",
        "genai.configure(api_key=GOOGLE_API_KEY)"
      ],
      "metadata": {
        "id": "OncUPypUDc7i"
      },
      "execution_count": 5,
      "outputs": []
    },
    {
      "cell_type": "code",
      "execution_count": 6,
      "metadata": {
        "colab": {
          "base_uri": "https://localhost:8080/",
          "height": 749
        },
        "id": "UafUhbeDBL7R",
        "outputId": "ebb5bc02-6c72-4165-c154-ba7550336dd6"
      },
      "outputs": [
        {
          "output_type": "stream",
          "name": "stdout",
          "text": [
            "¡De acuerdo! Aquí te presento una estimación del costo anual y mensual de mantener un Volkswagen del año 2017 con un valor de $10,000 USD, considerando 12,000 km anuales:\n",
            "\n",
            "**1. Seguro:**\n",
            "\n",
            "* Asumimos un costo del seguro mensual del 0.5% del valor del vehículo, lo que equivale a $50 USD al mes (0.5% de $10,000).\n",
            "* **Costo anual del seguro:** $50 USD/mes * 12 meses = $600 USD\n",
            "\n",
            "**2. Patente:**\n",
            "\n",
            "* Calculamos el costo de la patente anual como el 4% del valor del vehículo, lo que da $400 USD (4% de $10,000).\n",
            "* **Costo anual de la patente:** $400 USD\n",
            "\n",
            "**3. Combustible:**\n",
            "\n",
            "* Necesitamos más información para calcular el costo del combustible:\n",
            "    * **Consumo de combustible:**  ¿Cuál es el consumo promedio del Volkswagen en litros/100km? \n",
            "    * **Precio de la gasolina:** ¿Cuánto cuesta la gasolina por litro en tu región?\n",
            "\n",
            "* **Ejemplo:** Si el Volkswagen consume 7 litros/100km y la gasolina cuesta $1.50 USD/litro, el costo anual de combustible sería:\n",
            "    * **Consumo anual:** 12,000 km * (7 litros/100 km) = 840 litros\n",
            "    * **Costo anual del combustible:** 840 litros * $1.50 USD/litro = $1,260 USD\n",
            "\n",
            "**4. Costo Total:**\n",
            "\n",
            "* **Costo anual total (aprox.):** $600 (seguro) + $400 (patente) + $1,260 (combustible) = $2,260 USD\n",
            "* **Costo mensual total (aprox.):** $2,260 USD / 12 meses = $188.33 USD\n",
            "\n",
            "**Nota:** Estos cálculos son solo aproximaciones. Los costos reales pueden variar dependiendo de varios factores como:\n",
            "\n",
            "* **Tipo de seguro:** El tipo de cobertura del seguro puede afectar el precio.\n",
            "* **Historial de conducción:** Los conductores con buen historial suelen pagar menos por el seguro.\n",
            "* **Ubicación:** Las tasas de seguro, el precio de la gasolina y el valor de las patentes varían según la región.\n",
            "* **Mantenimiento:** Los costos de mantenimiento preventivo como cambios de aceite, filtros, etc., también pueden variar.\n",
            "\n",
            "**Recomendaciones:**\n",
            "\n",
            "* **Es importante obtener un presupuesto personalizado:** Contacta con compañías de seguros, consultoría de patentes y talleres mecánicos para obtener presupuestos personalizados para tu Volkswagen en particular. \n",
            "* **Mantén un registro de gastos:** Lleva un registro de tus gastos de mantenimiento para tener una mejor idea de cuánto te cuesta realmente mantener tu vehículo.\n",
            "\n",
            "¡Espero que esta información te sea útil! 😊\n",
            "\n"
          ]
        }
      ],
      "source": [
        "\n",
        "\n",
        "# Create the model\n",
        "generation_config = {\n",
        "  \"temperature\": 1,\n",
        "  \"top_p\": 0.95,\n",
        "  \"top_k\": 64,\n",
        "  \"max_output_tokens\": 8192,\n",
        "  \"response_mime_type\": \"text/plain\",\n",
        "}\n",
        "\n",
        "model = genai.GenerativeModel(\n",
        "  model_name=\"gemini-1.5-flash\",\n",
        "  generation_config=generation_config,\n",
        "  # safety_settings = Adjust safety settings\n",
        "  # See https://ai.google.dev/gemini-api/docs/safety-settings\n",
        "  system_instruction=\"Eres un experto en mantenimiento de vehículos. Proporciona respuestas detalladas y precisas sobre los costos de mantenimiento de diferentes modelos de vehículos, ademas tambien sabes los precios de los seguros, patentes y consumo de los vehiculos Si quieres saber cuánto te costará mantener el auto que te interesa, aquí tienes un cálculo aproximado considerando tres factores principales: seguro, patente, y combustible. Seguro: El costo del seguro mensual puede variar entre 0.1% y 1% del valor del auto. Ejemplo: Si el auto vale $20,000 USD, el seguro podría costarte entre $20 y $200 USD al mes. Patente: La patente anual suele estar entre 3% y 5% del valor del vehículo. Ejemplo: Para un auto de $20,000 USD, la patente podría costar entre $600 y $1,000 USD al año. Combustible: Estima tu consumo anual/mensual en función del kilometraje que recorrerás y el rendimiento del auto. Ejemplo: Si recorres 12,000 km al año y el auto consume 8 litros por cada 100 km, y con un precio del combustible de $1.5 USD por litro, el gasto anual de combustible sería aproximadamente $1,440 USD. Cálculo Total: Gasto mensual aproximado: [Costo del seguro] + ([Costo de la patente] ÷ 12) + [Gasto mensual de combustible]. Gasto anual aproximado: [Costo del seguro] × 12 + [Costo de la patente] + [Gasto anual de combustible]. Este cálculo te dará una idea general de los costos de mantener el auto que quieres comprar. Ejemplo de Respuesta: Para un auto valorado en $20,000 USD: Seguro mensual: $20 a $200 USD. Patente anual: $600 a $1,000 USD. Combustible anual: $1,440 USD. Costo mensual total: $160 a $470 USD (aproximado). Costo anual total: $2,640 a $5,640 USD (aproximado).\",\n",
        ")\n",
        "\n",
        "chat_session = model.start_chat(\n",
        "  history=[\n",
        "    {\n",
        "      \"role\": \"user\",\n",
        "      \"parts\": [\n",
        "        \"hola\\n\",\n",
        "      ],\n",
        "    },\n",
        "    {\n",
        "      \"role\": \"model\",\n",
        "      \"parts\": [\n",
        "        \"Hola! 👋 ¿En qué puedo ayudarte hoy? ¿Te gustaría información sobre el mantenimiento de un vehículo en específico, los costos de seguro, patentes o consumo de combustible? 🚗 \\n\\n¡Dime qué tipo de información necesitas y estaré encantado de ayudarte! 😊\\n\",\n",
        "      ],\n",
        "    },\n",
        "    {\n",
        "      \"role\": \"user\",\n",
        "      \"parts\": [\n",
        "        \"cuanto me sale mantener al mes un ford mondeo 2017?\",\n",
        "      ],\n",
        "    },\n",
        "    {\n",
        "      \"role\": \"model\",\n",
        "      \"parts\": [\n",
        "        \"¡Entendido! Para darte un cálculo preciso del costo de mantener un Ford Mondeo 2017 al mes, necesito un poco más de información.  \\n\\n**Para poder determinar el costo mensual aproximado, por favor, dime:**\\n\\n* **Kilometraje anual:** ¿Cuántos kilómetros conduces al año con el Ford Mondeo? \\n* **Ubicación:** ¿En qué ciudad o región vives? Esto afecta los costos de combustible, seguros y patentes. \\n* **Tipo de combustible:**  ¿Es un Mondeo a gasolina o diésel?\\n* **Estilo de conducción:** ¿Eres un conductor tranquilo o más agresivo? \\n* **Mantenimiento preventivo:** ¿Realizas las revisiones y cambios de aceite regularmente? \\n\\n**Con esta información, puedo calcular:**\\n\\n* **Costos de combustible:** Depende del kilometraje anual, tipo de combustible y precio de la gasolina/diésel en tu zona. \\n* **Mantenimiento preventivo:** Incluyendo cambios de aceite, filtros, pastillas de freno, etc. \\n* **Seguro:** El precio depende de la cobertura, tu edad, historial de conducción y ubicación. \\n* **Patentes:** El costo de las patentes varía según tu región y el tipo de vehículo. \\n\\n**Recuerda:** Estos son solo cálculos aproximados. Los costos reales pueden variar dependiendo de factores como el precio de los servicios de taller, tu historial de conducción y la frecuencia de uso del vehículo. \\n\\n¡Estoy listo para ayudarte a estimar el costo mensual de tu Ford Mondeo! 😊 \\n\",\n",
        "      ],\n",
        "    },\n",
        "  ]\n",
        ")\n",
        "\n",
        "response = chat_session.send_message(\"Calcula el costo de mantenimiento anual y mensual para un vehículo modelo Volkswagen del año 2017 con un valor de 10mil USD. Incluye los costos de seguro, patente, y combustible, basados en un promedio de 12,000 km al año\")\n",
        "\n",
        "print(response.text)"
      ]
    }
  ]
}