{
  "nbformat": 4,
  "nbformat_minor": 0,
  "metadata": {
    "colab": {
      "provenance": [],
      "authorship_tag": "ABX9TyPgcnEPHXlP82ij2ySqFcQp",
      "include_colab_link": true
    },
    "kernelspec": {
      "name": "python3",
      "display_name": "Python 3"
    },
    "language_info": {
      "name": "python"
    }
  },
  "cells": [
    {
      "cell_type": "markdown",
      "metadata": {
        "id": "view-in-github",
        "colab_type": "text"
      },
      "source": [
        "<a href=\"https://colab.research.google.com/github/AthosLacsi/GeneracionDePrompts/blob/main/GeneracionDePrompts.ipynb\" target=\"_parent\"><img src=\"https://colab.research.google.com/assets/colab-badge.svg\" alt=\"Open In Colab\"/></a>"
      ]
    },
    {
      "cell_type": "code",
      "source": [
        "!pip install -q -U google-generativeai"
      ],
      "metadata": {
        "id": "tY3TQdVGCJiQ"
      },
      "execution_count": 1,
      "outputs": []
    },
    {
      "cell_type": "code",
      "source": [
        "import google.generativeai as genai"
      ],
      "metadata": {
        "id": "zXcEvH5mBuV4"
      },
      "execution_count": 2,
      "outputs": []
    },
    {
      "cell_type": "code",
      "source": [
        "from google.colab import userdata\n",
        "\n",
        "GOOGLE_API_KEY=userdata.get('APIKEY')\n",
        "genai.configure(api_key=GOOGLE_API_KEY)"
      ],
      "metadata": {
        "id": "OncUPypUDc7i"
      },
      "execution_count": 3,
      "outputs": []
    },
    {
      "cell_type": "code",
      "execution_count": 4,
      "metadata": {
        "colab": {
          "base_uri": "https://localhost:8080/",
          "height": 697
        },
        "id": "UafUhbeDBL7R",
        "outputId": "b69f7433-7c8c-4736-c536-f812cfa2f52e"
      },
      "outputs": [
        {
          "output_type": "stream",
          "name": "stdout",
          "text": [
            "¡Perfecto! Con la información que me has dado, puedo darte una mejor idea de los costos mensuales del Ford Mondeo 2017.  \n",
            "\n",
            "**Asumiendo:**\n",
            "\n",
            "* **Kilometraje anual:** 15.000 km (un uso promedio)\n",
            "* **Ubicación:** Una ciudad mediana en Argentina (solo para el ejemplo)\n",
            "* **Tipo de combustible:**  Gasolina \n",
            "* **Estilo de conducción:** Normal (ni muy agresivo ni muy tranquilo)\n",
            "* **Mantenimiento preventivo:** Se realizan las revisiones y cambios de aceite según las recomendaciones del fabricante. \n",
            "\n",
            "**Estimación de costos mensuales:**\n",
            "\n",
            "* **Combustible:** \n",
            "    * Precio promedio de la gasolina: ARS 150 (precio promedio, puede variar según la zona)\n",
            "    * Consumo promedio del Ford Mondeo 2017: 7 litros/100 km (puede variar según el tipo de motor y la conducción)\n",
            "    * Costo mensual del combustible: ARS 1.575 (aprox.)\n",
            "* **Mantenimiento:** \n",
            "    * Revisiones y cambios de aceite: ARS 1.000 (cada 10.000 km, 1,5 revisiones al año)\n",
            "    * Otros mantenimientos (filtros, pastillas de freno, etc.): ARS 2.000 (cada 20.000 km, 0,75 revisiones al año)\n",
            "    * Costo mensual del mantenimiento: ARS 333 (aprox.)\n",
            "* **Seguro:**\n",
            "    * Precio promedio del seguro para un Ford Mondeo 2017 en Argentina: ARS 5.000 al año\n",
            "    * Costo mensual del seguro: ARS 416 (aprox.)\n",
            "* **Patente:**\n",
            "    * Costo promedio de la patente para un Ford Mondeo 2017 en Argentina: ARS 10.000 al año (variable según la provincia)\n",
            "    * Costo mensual de la patente: ARS 833 (aprox.)\n",
            "\n",
            "**Total estimado de costos mensuales:**\n",
            "\n",
            "* ARS 1.575 (combustible) + ARS 333 (mantenimiento) + ARS 416 (seguro) + ARS 833 (patente) = **ARS 3.157 (aprox.)**\n",
            "\n",
            "**Recuerda:**\n",
            "\n",
            "* Estos son solo cálculos aproximados. Los costos reales pueden variar según las tarifas de los talleres, el tipo de cobertura del seguro, el valor de la patente en tu provincia, y el estilo de conducción.\n",
            "* No se incluyen gastos adicionales como estacionamiento, peajes o lavados. \n",
            "\n",
            "Espero que esta información te sea útil. 😊 Si tienes alguna duda o necesitas más detalles, no dudes en preguntar. \n",
            "\n"
          ]
        }
      ],
      "source": [
        "\n",
        "\n",
        "# Create the model\n",
        "generation_config = {\n",
        "  \"temperature\": 1,\n",
        "  \"top_p\": 0.95,\n",
        "  \"top_k\": 64,\n",
        "  \"max_output_tokens\": 8192,\n",
        "  \"response_mime_type\": \"text/plain\",\n",
        "}\n",
        "\n",
        "model = genai.GenerativeModel(\n",
        "  model_name=\"gemini-1.5-flash\",\n",
        "  generation_config=generation_config,\n",
        "  # safety_settings = Adjust safety settings\n",
        "  # See https://ai.google.dev/gemini-api/docs/safety-settings\n",
        "  system_instruction=\"Eres un experto en mantenimiento de vehículos. Proporciona respuestas detalladas y precisas sobre los costos de mantenimiento de diferentes modelos de vehículos, ademas tambien sabes los precios de los seguros, patentes y consumo de los vehiculos.\",\n",
        ")\n",
        "\n",
        "chat_session = model.start_chat(\n",
        "  history=[\n",
        "    {\n",
        "      \"role\": \"user\",\n",
        "      \"parts\": [\n",
        "        \"hola\\n\",\n",
        "      ],\n",
        "    },\n",
        "    {\n",
        "      \"role\": \"model\",\n",
        "      \"parts\": [\n",
        "        \"Hola! 👋 ¿En qué puedo ayudarte hoy? ¿Te gustaría información sobre el mantenimiento de un vehículo en específico, los costos de seguro, patentes o consumo de combustible? 🚗 \\n\\n¡Dime qué tipo de información necesitas y estaré encantado de ayudarte! 😊\\n\",\n",
        "      ],\n",
        "    },\n",
        "    {\n",
        "      \"role\": \"user\",\n",
        "      \"parts\": [\n",
        "        \"cuanto me sale mantener al mes un ford mondeo 2017?\",\n",
        "      ],\n",
        "    },\n",
        "    {\n",
        "      \"role\": \"model\",\n",
        "      \"parts\": [\n",
        "        \"¡Entendido! Para darte un cálculo preciso del costo de mantener un Ford Mondeo 2017 al mes, necesito un poco más de información.  \\n\\n**Para poder determinar el costo mensual aproximado, por favor, dime:**\\n\\n* **Kilometraje anual:** ¿Cuántos kilómetros conduces al año con el Ford Mondeo? \\n* **Ubicación:** ¿En qué ciudad o región vives? Esto afecta los costos de combustible, seguros y patentes. \\n* **Tipo de combustible:**  ¿Es un Mondeo a gasolina o diésel?\\n* **Estilo de conducción:** ¿Eres un conductor tranquilo o más agresivo? \\n* **Mantenimiento preventivo:** ¿Realizas las revisiones y cambios de aceite regularmente? \\n\\n**Con esta información, puedo calcular:**\\n\\n* **Costos de combustible:** Depende del kilometraje anual, tipo de combustible y precio de la gasolina/diésel en tu zona. \\n* **Mantenimiento preventivo:** Incluyendo cambios de aceite, filtros, pastillas de freno, etc. \\n* **Seguro:** El precio depende de la cobertura, tu edad, historial de conducción y ubicación. \\n* **Patentes:** El costo de las patentes varía según tu región y el tipo de vehículo. \\n\\n**Recuerda:** Estos son solo cálculos aproximados. Los costos reales pueden variar dependiendo de factores como el precio de los servicios de taller, tu historial de conducción y la frecuencia de uso del vehículo. \\n\\n¡Estoy listo para ayudarte a estimar el costo mensual de tu Ford Mondeo! 😊 \\n\",\n",
        "      ],\n",
        "    },\n",
        "  ]\n",
        ")\n",
        "\n",
        "response = chat_session.send_message(\"INSERT_INPUT_HERE\")\n",
        "\n",
        "print(response.text)"
      ]
    }
  ]
}